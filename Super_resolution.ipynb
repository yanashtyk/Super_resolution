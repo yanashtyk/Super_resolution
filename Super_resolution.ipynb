{
 "cells": [
  {
   "cell_type": "code",
   "execution_count": 22,
   "metadata": {},
   "outputs": [],
   "source": [
    "from torchvision.datasets import MNIST\n",
    "import torchvision\n",
    "import numpy as np\n",
    "import torch.nn.functional as F\n",
    "from torchvision.transforms import ToPILImage\n",
    "to_img = ToPILImage()\n",
    "from PIL import Image\n",
    "from torch.autograd import Variable\n",
    "import torch\n",
    "import torch.nn as nn"
   ]
  },
  {
   "cell_type": "code",
   "execution_count": 19,
   "metadata": {},
   "outputs": [],
   "source": [
    "transform=torchvision.transforms.Compose([ torchvision.transforms.ToTensor()])\n",
    "\n",
    "train_dataset=MNIST(root=\"~/torch_datasets\", train=True, transform=transform, download=True)\n",
    "\n",
    "test_dataset=MNIST(root=\"~/torch_datasets\", train=False, transform=transform, download=True)\n",
    "\n",
    "\n",
    "train_loader=torch.utils.data.DataLoader(train_dataset, batch_size=128, shuffle=True, pin_memory=True)\n",
    "\n",
    "test_loader=torch.utils.data.DataLoader(test_dataset, batch_size=32, shuffle=False)"
   ]
  },
  {
   "cell_type": "code",
   "execution_count": 11,
   "metadata": {},
   "outputs": [],
   "source": [
    "class MNISTUpscaler(nn.Module):\n",
    "    def __init__(self):\n",
    "        super(MNISTUpscaler,self).__init__()\n",
    "        \n",
    "        self.encoder = nn.Sequential(\n",
    "            nn.Conv2d(1, 32, kernel_size=5),\n",
    "            nn.ReLU(True),\n",
    "            nn.Conv2d(32,32,kernel_size=5),\n",
    "            nn.ReLU(True), \n",
    "            nn.Conv2d(32, 32, kernel_size=4),\n",
    "            nn.ReLU(True),\n",
    "            nn.Conv2d(32, 32, kernel_size=3))\n",
    "        self.decoder = nn.Sequential(  \n",
    "            nn.ConvTranspose2d(32, 32, kernel_size=4),\n",
    "            nn.ReLU(True),\n",
    "            nn.ConvTranspose2d(32,32,kernel_size=3, stride=2),\n",
    "            nn.ReLU(True),\n",
    "            nn.ConvTranspose2d(32,32,kernel_size=4, stride=2),\n",
    "            nn.ReLU(True),\n",
    "            nn.ConvTranspose2d(32, 32, kernel_size=5),\n",
    "            nn.ReLU(True),\n",
    "            nn.ConvTranspose2d(32, 1, kernel_size=5))\n",
    "        \n",
    "        \n",
    "\n",
    "    def forward(self, x):\n",
    "        x = self.encoder(x)\n",
    "        x = self.decoder(x)\n",
    "        return x"
   ]
  },
  {
   "cell_type": "code",
   "execution_count": 12,
   "metadata": {},
   "outputs": [],
   "source": [
    "model = MNISTUpscaler()\n",
    "criterion = nn.MSELoss()\n",
    "optimizer = torch.optim.Adam(model.parameters(), lr=1e-3, weight_decay=1e-5)\n",
    "num_epochs=5"
   ]
  },
  {
   "cell_type": "code",
   "execution_count": 23,
   "metadata": {},
   "outputs": [
    {
     "name": "stdout",
     "output_type": "stream",
     "text": [
      "epoch [1/5], loss:0.0165\n",
      "epoch [2/5], loss:0.0099\n",
      "epoch [3/5], loss:0.0083\n",
      "epoch [4/5], loss:0.0075\n",
      "epoch [5/5], loss:0.0064\n"
     ]
    }
   ],
   "source": [
    "\n",
    "\n",
    "for epoch in range(num_epochs):\n",
    "    for data in train_loader:\n",
    "        model.train()\n",
    "        img, _= data\n",
    "        inputt=F.avg_pool2d(img, kernel_size=2)\n",
    "        # ===================forward=====================\n",
    "        output = model(inputt)\n",
    "        loss = criterion(output, img)\n",
    "        # ===================backward====================\n",
    "        optimizer.zero_grad()\n",
    "        loss.backward()\n",
    "        optimizer.step()\n",
    "    # ===================log========================\n",
    "    print('epoch [{}/{}], loss:{:.4f}'\n",
    "          .format(epoch+1, num_epochs, loss.item()))\n",
    "\n",
    "\n",
    "\n"
   ]
  },
  {
   "cell_type": "code",
   "execution_count": 25,
   "metadata": {},
   "outputs": [
    {
     "name": "stdout",
     "output_type": "stream",
     "text": [
      "test_loss:0.0060\n"
     ]
    }
   ],
   "source": [
    "loss=0\n",
    "num=0\n",
    "for data in test_loader:\n",
    "    model.eval()\n",
    "    img, _=data\n",
    "    inputt=F.avg_pool2d(img, kernel_size=2)\n",
    "    output=model(inputt)\n",
    "    \n",
    "    loss+=criterion(output, img)\n",
    "    num+=1\n",
    "    \n",
    "loss/=float(num)    \n",
    "print('test_loss:{:.4f}'.format(loss))\n",
    "\n",
    "\n",
    "torch.save(model.state_dict(), './MNISTUpscaler.pth')"
   ]
  },
  {
   "cell_type": "code",
   "execution_count": null,
   "metadata": {},
   "outputs": [],
   "source": []
  }
 ],
 "metadata": {
  "kernelspec": {
   "display_name": "Python 3",
   "language": "python",
   "name": "python3"
  },
  "language_info": {
   "codemirror_mode": {
    "name": "ipython",
    "version": 3
   },
   "file_extension": ".py",
   "mimetype": "text/x-python",
   "name": "python",
   "nbconvert_exporter": "python",
   "pygments_lexer": "ipython3",
   "version": "3.8.3"
  }
 },
 "nbformat": 4,
 "nbformat_minor": 4
}
